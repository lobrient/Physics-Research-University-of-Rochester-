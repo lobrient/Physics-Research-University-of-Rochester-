{
 "cells": [
  {
   "cell_type": "code",
   "execution_count": 1,
   "id": "be144668",
   "metadata": {},
   "outputs": [],
   "source": [
    "from __future__ import division, unicode_literals, print_function  \n",
    "import numpy as np\n",
    "import matplotlib.pyplot as plt\n",
    "import os\n",
    "import pandas as pd\n",
    "import trackpy as tp\n",
    "from scipy import ndimage  # for shifting images\n",
    "from scipy.interpolate import griddata  # for resampling\n",
    "import matplotlib.patches as mpatches   # circles\n",
    "from scipy.signal import savgol_filter\n",
    "from skimage.transform import rotate\n",
    "from scipy.optimize import curve_fit"
   ]
  },
  {
   "cell_type": "code",
   "execution_count": 2,
   "id": "91f23d60",
   "metadata": {},
   "outputs": [],
   "source": [
    "#Velocity and Accelation arrays are loaded here. \n",
    "V1=np.load('velocity_10_25.npy',allow_pickle=True)\n",
    "A1=np.load('accel_10_25.npy',allow_pickle=True)\n",
    "T1=np.load('time_10_25.npy',allow_pickle=True)\n",
    "\n",
    "V2=np.load('velocity_1_9.npy',allow_pickle=True)\n",
    "A2=np.load('accel_1_9.npy',allow_pickle=True)\n",
    "T2=np.load('time_1_9.npy',allow_pickle=True)\n",
    "\n",
    "V3=np.load('velocitycomp_10_25.npy',allow_pickle=True)\n",
    "A3=np.load('accelcomp_10_25.npy',allow_pickle=True)\n",
    "\n",
    "\n",
    "V4=np.load('velocitycomp_1_9.npy', allow_pickle=True)\n",
    "A4=np.load('accel_1_9comp.npy', allow_pickle=True)"
   ]
  },
  {
   "cell_type": "code",
   "execution_count": 3,
   "id": "3424168c",
   "metadata": {},
   "outputs": [
    {
     "ename": "IndexError",
     "evalue": "index 9 is out of bounds for axis 0 with size 7",
     "output_type": "error",
     "traceback": [
      "\u001b[1;31m---------------------------------------------------------------------------\u001b[0m",
      "\u001b[1;31mIndexError\u001b[0m                                Traceback (most recent call last)",
      "Cell \u001b[1;32mIn[3], line 5\u001b[0m\n\u001b[0;32m      3\u001b[0m A2_\u001b[38;5;241m=\u001b[39mA[\u001b[38;5;241m1\u001b[39m,\u001b[38;5;241m0\u001b[39m]\n\u001b[0;32m      4\u001b[0m A3_\u001b[38;5;241m=\u001b[39mA[\u001b[38;5;241m2\u001b[39m,\u001b[38;5;241m0\u001b[39m]\n\u001b[1;32m----> 5\u001b[0m A4_\u001b[38;5;241m=\u001b[39m\u001b[43mA\u001b[49m\u001b[43m[\u001b[49m\u001b[38;5;241;43m9\u001b[39;49m\u001b[43m,\u001b[49m\u001b[38;5;241;43m0\u001b[39;49m\u001b[43m]\u001b[49m\n\u001b[0;32m      6\u001b[0m A5_\u001b[38;5;241m=\u001b[39mA[\u001b[38;5;241m10\u001b[39m,\u001b[38;5;241m0\u001b[39m]\n\u001b[0;32m      7\u001b[0m A6_\u001b[38;5;241m=\u001b[39mA[\u001b[38;5;241m11\u001b[39m,\u001b[38;5;241m0\u001b[39m]\n",
      "\u001b[1;31mIndexError\u001b[0m: index 9 is out of bounds for axis 0 with size 7"
     ]
    }
   ],
   "source": [
    "A=A3[:,:,:,2] \n",
    "A1_=A[0,0]\n",
    "A2_=A[1,0]\n",
    "A3_=A[2,0]\n",
    "A4_=A[9,0]\n",
    "A5_=A[10,0]\n",
    "A6_=A[11,0]\n",
    "\n",
    "A0=A4[:,:,:,2] \n",
    "A7_=A0[0,0]\n",
    "A8_=A0[1,0]\n",
    "A9_=A0[2,0]\n",
    "#J=A.reshape(64,1)\n",
    "A0"
   ]
  },
  {
   "cell_type": "code",
   "execution_count": null,
   "id": "3ee76c41",
   "metadata": {},
   "outputs": [],
   "source": [
    "#creating the position array for trials 1-9\n",
    "pos1=np.zeros((3,2,2))\n",
    "\n",
    "\n",
    "pos1[0,0]=[6,10]\n",
    "pos1[0,1]=[6,10]\n",
    "pos1[1,0]=[8,12]\n",
    "pos1[1,1]=[8,12]\n",
    "pos1[2,0]=[7,11]\n",
    "pos1[2,1]=[7,11]\n"
   ]
  },
  {
   "cell_type": "code",
   "execution_count": null,
   "id": "7feb05e3",
   "metadata": {},
   "outputs": [],
   "source": [
    "\n",
    "#creating the positon array for trials 10-18\n",
    "\n",
    "\n",
    "#Creating the position Array for trials 19-25\n",
    "pos3 = np.zeros((3,2,2)) \n",
    "pos3[0,0] = [6,10]\n",
    "pos3[0,1] = [7,11]\n",
    "pos3[1,0]=[8,12]\n",
    "pos3[1,1]=[9,13]\n",
    "pos3[2,0]=[6,10]\n",
    "pos3[2,1]=[7,11]\n",
    "\n",
    "pos3"
   ]
  },
  {
   "cell_type": "code",
   "execution_count": null,
   "id": "e268645a",
   "metadata": {},
   "outputs": [],
   "source": [
    "angles=[\"33 Degrees\",\"60 Degrees\",\"90 Degrees\"]\n",
    "cs=[\"BLUE\", \"RED\",\"GREEN\"]\n",
    "V_1=V2[0,:,:] #Trial 1\n",
    "V_12=V2[1,:,:] #Trial 2\n",
    "V_13=V2[2,:,:] #Trial 3\n",
    "A_1=A2[0,:,:] #Trial 1\n",
    "A_12=A2[1,:,:] #Trial 2\n",
    "A_13=A2[2,:,:] #Trial 3\n",
    "\n",
    "\n",
    "V_2=V1[0,:,:]#Trial 10\n",
    "V_22=V1[1,:,:]#Trial 11\n",
    "V_23=V1[2,:,:]#Trial 12\n",
    "A_2=A1[0,:,:]#Trial 10\n",
    "A_22=A1[1,:,:]#Trial 11\n",
    "A_23=A1[2,:,:]#Trial 12\n",
    "\n",
    "V_3=V1[9,:,:]#Trial 19\n",
    "V_32=V1[10,:,:]#Trial 20\n",
    "V_33=V1[11,:,:]#Trial 21\n",
    "A_3=A1[9,:,:]#Trial 19\n",
    "A_32=A1[10,:,:]#Trial 20\n",
    "A_33=A1[11,:,:]#Trial 21\n"
   ]
  },
  {
   "cell_type": "code",
   "execution_count": null,
   "id": "a0a95f8f",
   "metadata": {},
   "outputs": [],
   "source": [
    "pos=np.zeros(64)\n",
    "pos[0:36] = [6,10,6,10,8,12,8,12,7,11,7,11,6,10,6,10,8,12,8,12,7,11,7,11,6,10,6,10,8,12,8,12,7,11,7,11,]\n",
    "\n",
    "pos[36:64] = [6,10,7,11,8,12,9,13,6,10,7,11,6,10,7,11,8,12,9,13,6,10,7,11,8,12,9,13]\n",
    "A0[0:3]\n",
    "#pos1[0:3]"
   ]
  },
  {
   "cell_type": "code",
   "execution_count": null,
   "id": "49791eb2",
   "metadata": {},
   "outputs": [],
   "source": [
    "\n",
    "plt.scatter(pos1[0], abs(A0[0]), marker='D', c=cs[0], label=angles[0])\n",
    "plt.scatter(pos1[1], abs(A0[1]), marker='D', c=cs[0])\n",
    "plt.scatter(pos1[2], abs(A0[2]), marker='D', c=cs[0])\n",
    "\n",
    "plt.scatter(pos1[0],abs(A[0]), marker='s', c=cs[1], label=angles[1])\n",
    "plt.scatter(pos1[1],abs(A[1]), marker='s', c=cs[1])\n",
    "plt.scatter(pos1[2],abs(A[2]), marker='s', c=cs[1])\n",
    "\n",
    "#plt.scatter(pos3[0],abs(A[9]), c=cs[2], label=angles[2])\n",
    "#plt.scatter(pos3[1],abs(A[10]), c=cs[2])\n",
    "#plt.scatter(pos3[2],abs(A[11]), c=cs[2])\n",
    "\n",
    "\n",
    "\n",
    "\n",
    "\n",
    "plt.ylabel(\"|V| (m/s)\")\n",
    "plt.xlabel(\"radial (cylindrical) distance from crater center (cm)\")\n",
    "plt.legend(bbox_to_anchor=(1.04, 1), loc=\"upper left\")"
   ]
  },
  {
   "cell_type": "code",
   "execution_count": null,
   "id": "1db85eec",
   "metadata": {},
   "outputs": [],
   "source": [
    "pos3=[10,6,7,11,12,8,9,13,10,6,7,11]\n",
    "pos3[2:4]\n",
    "pos3[6:8]\n",
    "pos3[10:12]"
   ]
  },
  {
   "cell_type": "code",
   "execution_count": null,
   "id": "d847e7f0",
   "metadata": {},
   "outputs": [],
   "source": [
    "#plt.scatter(pos1[1], V_1[1], marker='D', c=cs[0], label=angles[0])\n",
    "#plt.scatter(pos1[3], V_12[1], marker='D', c=cs[0])\n",
    "#plt.scatter(pos1[5], V_13[1], marker='D', c=cs[0])\n",
    "\n",
    "#plt.scatter(pos1[1],V_2[1], marker='s', c=cs[1], label=angles[1])\n",
    "#plt.scatter(pos1[3],V_22[1], marker='s', c=cs[1])\n",
    "#plt.scatter(pos1[5],V_23[1], marker='s', c=cs[1])\n",
    "\n",
    "#plt.scatter([7,11],V_3[1], c=cs[2], label=angles[2])\n",
    "#plt.scatter([9,13],V_32[1], c=cs[2])\n",
    "plt.scatter([7,11],V_33[1], c=cs[2])\n",
    "\n",
    "\n",
    "plt.ylabel(\"|V| (m/s)\")\n",
    "plt.xlabel(\"radial (cylindrical) distance from crater center (cm)\")\n",
    "plt.legend(bbox_to_anchor=(1.04, 1), loc=\"upper left\")"
   ]
  },
  {
   "cell_type": "code",
   "execution_count": null,
   "id": "d1cfcaa1",
   "metadata": {},
   "outputs": [],
   "source": [
    "V1.shape"
   ]
  },
  {
   "cell_type": "code",
   "execution_count": null,
   "id": "70c87cb7",
   "metadata": {},
   "outputs": [],
   "source": [
    "pos=np.zeros(64)\n",
    "pos[0:36] = [6,10,6,10,8,12,8,12,7,11,7,11,6,10,6,10,8,12,8,12,7,11,7,11,6,10,6,10,8,12,8,12,7,11,7,11]\n",
    "\n",
    "pos[36:64] = [6,10,7,11,8,12,9,13,6,10,7,11,6,10,7,11,8,12,9,13,6,10,7,11,8,12,9,13]\n",
    "\n",
    "depths = [\"5cm\",\"7cm\",\"3cm\"]\n",
    "cs = [ \"ORANGE\",\"BLUE\", \"RED\",\"GREEN\", \"GOLD\",\"VIOLET\",\"CYAN\"] #depths go 5cm, 7cm, 3cm\n",
    "\n",
    "\n",
    "for i in range(16):\n",
    "    for j in range(2):\n",
    "        for k in range(2):\n",
    "            if 0<=i<=2: #trials 10 to 12\n",
    "                plt.scatter(pos[i*2*2+j*2+k],V2[i,j,k], marker='o', c=cs[3])\n",
    "                #plt.scatter(pos[i*2*2+j*2+k],V1[i,j,k], marker='D', c=cs[1])\n",
    "\n",
    "\n",
    "            #elif 9<= i <=11:  \n",
    "                #plt.scatter(pos[i*2*2+j*2+k],V1[i,j,k], marker='s',c=cs[2])\n",
    "\n",
    "\n",
    "            #else: #elif i>4 and i <=7:\n",
    "               # plt.scatter(pos[i*2*2+j*2+k],V1[i,j,k], c=cs[3])\n"
   ]
  }
 ],
 "metadata": {
  "kernelspec": {
   "display_name": "Python 3 (ipykernel)",
   "language": "python",
   "name": "python3"
  },
  "language_info": {
   "codemirror_mode": {
    "name": "ipython",
    "version": 3
   },
   "file_extension": ".py",
   "mimetype": "text/x-python",
   "name": "python",
   "nbconvert_exporter": "python",
   "pygments_lexer": "ipython3",
   "version": "3.10.9"
  }
 },
 "nbformat": 4,
 "nbformat_minor": 5
}
